{
  "nbformat": 4,
  "nbformat_minor": 0,
  "metadata": {
    "colab": {
      "provenance": []
    },
    "kernelspec": {
      "name": "python3",
      "display_name": "Python 3"
    },
    "language_info": {
      "name": "python"
    }
  },
  "cells": [
    {
      "cell_type": "code",
      "source": [
        "import requests\n",
        "from bs4 import BeautifulSoup\n",
        "import csv\n",
        "\n",
        "url = \"https://sofifa.com/players?showCol%5B0%5D=pi&showCol%5B1%5D=ae&showCol%5B2%5D=hi&showCol%5B3%5D=wi&showCol%5B4%5D=pf&showCol%5B5%5D=oa&showCol%5B6%5D=pt&showCol%5B7%5D=bo&showCol%5B8%5D=bp&showCol%5B9%5D=gu&showCol%5B10%5D=jt&showCol%5B11%5D=le&showCol%5B12%5D=vl&showCol%5B13%5D=wg&showCol%5B14%5D=rc&showCol%5B15%5D=ta&showCol%5B16%5D=cr&showCol%5B17%5D=fi&showCol%5B18%5D=he&showCol%5B19%5D=sh&showCol%5B20%5D=vo&showCol%5B21%5D=ts&showCol%5B22%5D=dr&showCol%5B23%5D=cu&showCol%5B24%5D=fr&showCol%5B25%5D=lo&showCol%5B26%5D=bl&showCol%5B27%5D=to&showCol%5B28%5D=ac&showCol%5B29%5D=sp&showCol%5B30%5D=ag&showCol%5B31%5D=re&showCol%5B32%5D=ba&showCol%5B33%5D=tp&showCol%5B34%5D=so&showCol%5B35%5D=ju&showCol%5B36%5D=st&showCol%5B37%5D=sr&showCol%5B38%5D=ln&showCol%5B39%5D=te&showCol%5B40%5D=ar&showCol%5B41%5D=in&showCol%5B42%5D=po&showCol%5B43%5D=vi&showCol%5B44%5D=pe&showCol%5B45%5D=cm&showCol%5B46%5D=td&showCol%5B47%5D=ma&showCol%5B48%5D=sa&showCol%5B49%5D=sl&showCol%5B50%5D=tg&showCol%5B51%5D=gd&showCol%5B52%5D=gh&showCol%5B53%5D=gc&showCol%5B54%5D=gp&showCol%5B55%5D=gr&showCol%5B56%5D=tt&showCol%5B57%5D=bs&showCol%5B58%5D=wk&showCol%5B59%5D=sk&showCol%5B60%5D=aw&showCol%5B61%5D=dw&showCol%5B62%5D=ir&showCol%5B63%5D=bt&showCol%5B64%5D=pac&showCol%5B65%5D=sho&showCol%5B66%5D=pas&showCol%5B67%5D=dri&showCol%5B68%5D=def&showCol%5B69%5D=phy&r=200061&set=true\"\n",
        "\n",
        "user_agent = {\n",
        "    \"User-Agent\": \"Mozilla/5.0 (Windows NT 10.0; Win64; x64) AppleWebKit/537.36 (KHTML, like Gecko) Chrome/58.0.3029.110 Safari/537.3\"}\n",
        "\n",
        "data = []\n",
        "\n",
        "r = requests.get(url, headers=user_agent)\n",
        "soup = BeautifulSoup(r.content, \"html.parser\")\n",
        "table = soup.find(\"table\", {\"class\": \"table table-hover persist-area\"})\n",
        "\n",
        "table_headers = []\n",
        "for i in table.find_all(\"th\"):\n",
        "    title = i.text.strip()\n",
        "    table_headers.append(title)\n",
        "\n",
        "rows = []\n",
        "for i in table.find_all(\"tr\")[1:]:\n",
        "    cells = []\n",
        "    tds = i.find_all(\"td\")\n",
        "    if len(tds) == 0:\n",
        "        ths = i.find_all(\"th\")\n",
        "        for th in ths:\n",
        "            cells.append(th.text.strip())\n",
        "    else:\n",
        "        for td in tds:\n",
        "            cells.append(td.text.strip())\n",
        "    rows.append(cells)\n",
        "\n",
        "data += rows\n",
        "\n",
        "# Save data to CSV file\n",
        "filename = \"players1.csv\"\n",
        "with open(filename, \"w\", newline=\"\") as csvfile:\n",
        "    writer = csv.writer(csvfile)\n",
        "    # Write header row\n",
        "    writer.writerow(table_headers)\n",
        "    # Write data rows\n",
        "    writer.writerows(data)\n",
        "\n",
        "print(f\"Data saved to {filename}\")"
      ],
      "metadata": {
        "colab": {
          "base_uri": "https://localhost:8080/"
        },
        "id": "xhevbRIaRFsy",
        "outputId": "a0afd6d6-d424-435f-f583-ca0720a100a3"
      },
      "execution_count": 34,
      "outputs": [
        {
          "output_type": "stream",
          "name": "stdout",
          "text": [
            "Data saved to players1.csv\n"
          ]
        }
      ]
    },
    {
      "cell_type": "code",
      "source": [
        "import requests\n",
        "from bs4 import BeautifulSoup\n",
        "import csv\n",
        "\n",
        "url = \"https://sofifa.com/players?showCol%5B0%5D=pi&showCol%5B1%5D=ae&showCol%5B2%5D=hi&showCol%5B3%5D=wi&showCol%5B4%5D=pf&showCol%5B5%5D=oa&showCol%5B6%5D=pt&showCol%5B7%5D=bo&showCol%5B8%5D=bp&showCol%5B9%5D=gu&showCol%5B10%5D=jt&showCol%5B11%5D=le&showCol%5B12%5D=vl&showCol%5B13%5D=wg&showCol%5B14%5D=rc&showCol%5B15%5D=ta&showCol%5B16%5D=cr&showCol%5B17%5D=fi&showCol%5B18%5D=he&showCol%5B19%5D=sh&showCol%5B20%5D=vo&showCol%5B21%5D=ts&showCol%5B22%5D=dr&showCol%5B23%5D=cu&showCol%5B24%5D=fr&showCol%5B25%5D=lo&showCol%5B26%5D=bl&showCol%5B27%5D=to&showCol%5B28%5D=ac&showCol%5B29%5D=sp&showCol%5B30%5D=ag&showCol%5B31%5D=re&showCol%5B32%5D=ba&showCol%5B33%5D=tp&showCol%5B34%5D=so&showCol%5B35%5D=ju&showCol%5B36%5D=st&showCol%5B37%5D=sr&showCol%5B38%5D=ln&showCol%5B39%5D=te&showCol%5B40%5D=ar&showCol%5B41%5D=in&showCol%5B42%5D=po&showCol%5B43%5D=vi&showCol%5B44%5D=pe&showCol%5B45%5D=cm&showCol%5B46%5D=td&showCol%5B47%5D=ma&showCol%5B48%5D=sa&showCol%5B49%5D=sl&showCol%5B50%5D=tg&showCol%5B51%5D=gd&showCol%5B52%5D=gh&showCol%5B53%5D=gc&showCol%5B54%5D=gp&showCol%5B55%5D=gr&showCol%5B56%5D=tt&showCol%5B57%5D=bs&showCol%5B58%5D=wk&showCol%5B59%5D=sk&showCol%5B60%5D=aw&showCol%5B61%5D=dw&showCol%5B62%5D=ir&showCol%5B63%5D=bt&showCol%5B64%5D=pac&showCol%5B65%5D=sho&showCol%5B66%5D=pas&showCol%5B67%5D=dri&showCol%5B68%5D=def&showCol%5B69%5D=phy&r=200061&set=true&offset=60\"\n",
        "\n",
        "\n",
        "user_agent = {\n",
        "    \"User-Agent\": \"Mozilla/5.0 (Windows NT 10.0; Win64; x64) AppleWebKit/537.36 (KHTML, like Gecko) Chrome/58.0.3029.110 Safari/537.3\"}\n",
        "\n",
        "data = []\n",
        "\n",
        "r = requests.get(url, headers=user_agent)\n",
        "soup = BeautifulSoup(r.content, \"html.parser\")\n",
        "table = soup.find(\"table\", {\"class\": \"table table-hover persist-area\"})\n",
        "\n",
        "table_headers = []\n",
        "for i in table.find_all(\"th\"):\n",
        "    title = i.text.strip()\n",
        "    table_headers.append(title)\n",
        "\n",
        "rows = []\n",
        "for i in table.find_all(\"tr\")[1:]:\n",
        "    cells = []\n",
        "    tds = i.find_all(\"td\")\n",
        "    if len(tds) == 0:\n",
        "        ths = i.find_all(\"th\")\n",
        "        for th in ths:\n",
        "            cells.append(th.text.strip())\n",
        "    else:\n",
        "        for td in tds:\n",
        "            cells.append(td.text.strip())\n",
        "    rows.append(cells)\n",
        "\n",
        "data += rows\n",
        "\n",
        "# Save data to CSV file\n",
        "filename = \"players2.csv\"\n",
        "with open(filename, \"w\", newline=\"\") as csvfile:\n",
        "    writer = csv.writer(csvfile)\n",
        "    # Write header row\n",
        "    writer.writerow(table_headers)\n",
        "    # Write data rows\n",
        "    writer.writerows(data)\n",
        "\n",
        "print(f\"Data saved to {filename}\")"
      ],
      "metadata": {
        "colab": {
          "base_uri": "https://localhost:8080/"
        },
        "id": "IjpQXjIhpWas",
        "outputId": "70de9e8d-4e3e-47bd-ad45-88b99189c9be"
      },
      "execution_count": 35,
      "outputs": [
        {
          "output_type": "stream",
          "name": "stdout",
          "text": [
            "Data saved to players2.csv\n"
          ]
        }
      ]
    },
    {
      "cell_type": "code",
      "source": [
        "import requests\n",
        "from bs4 import BeautifulSoup\n",
        "import csv\n",
        "\n",
        "url = \"https://sofifa.com/players?showCol%5B0%5D=pi&showCol%5B1%5D=ae&showCol%5B2%5D=hi&showCol%5B3%5D=wi&showCol%5B4%5D=pf&showCol%5B5%5D=oa&showCol%5B6%5D=pt&showCol%5B7%5D=bo&showCol%5B8%5D=bp&showCol%5B9%5D=gu&showCol%5B10%5D=jt&showCol%5B11%5D=le&showCol%5B12%5D=vl&showCol%5B13%5D=wg&showCol%5B14%5D=rc&showCol%5B15%5D=ta&showCol%5B16%5D=cr&showCol%5B17%5D=fi&showCol%5B18%5D=he&showCol%5B19%5D=sh&showCol%5B20%5D=vo&showCol%5B21%5D=ts&showCol%5B22%5D=dr&showCol%5B23%5D=cu&showCol%5B24%5D=fr&showCol%5B25%5D=lo&showCol%5B26%5D=bl&showCol%5B27%5D=to&showCol%5B28%5D=ac&showCol%5B29%5D=sp&showCol%5B30%5D=ag&showCol%5B31%5D=re&showCol%5B32%5D=ba&showCol%5B33%5D=tp&showCol%5B34%5D=so&showCol%5B35%5D=ju&showCol%5B36%5D=st&showCol%5B37%5D=sr&showCol%5B38%5D=ln&showCol%5B39%5D=te&showCol%5B40%5D=ar&showCol%5B41%5D=in&showCol%5B42%5D=po&showCol%5B43%5D=vi&showCol%5B44%5D=pe&showCol%5B45%5D=cm&showCol%5B46%5D=td&showCol%5B47%5D=ma&showCol%5B48%5D=sa&showCol%5B49%5D=sl&showCol%5B50%5D=tg&showCol%5B51%5D=gd&showCol%5B52%5D=gh&showCol%5B53%5D=gc&showCol%5B54%5D=gp&showCol%5B55%5D=gr&showCol%5B56%5D=tt&showCol%5B57%5D=bs&showCol%5B58%5D=wk&showCol%5B59%5D=sk&showCol%5B60%5D=aw&showCol%5B61%5D=dw&showCol%5B62%5D=ir&showCol%5B63%5D=bt&showCol%5B64%5D=pac&showCol%5B65%5D=sho&showCol%5B66%5D=pas&showCol%5B67%5D=dri&showCol%5B68%5D=def&showCol%5B69%5D=phy&r=200061&set=true&offset=120\"\n",
        "\n",
        "\n",
        "user_agent = {\n",
        "    \"User-Agent\": \"Mozilla/5.0 (Windows NT 10.0; Win64; x64) AppleWebKit/537.36 (KHTML, like Gecko) Chrome/58.0.3029.110 Safari/537.3\"}\n",
        "\n",
        "data = []\n",
        "\n",
        "r = requests.get(url, headers=user_agent)\n",
        "soup = BeautifulSoup(r.content, \"html.parser\")\n",
        "table = soup.find(\"table\", {\"class\": \"table table-hover persist-area\"})\n",
        "\n",
        "table_headers = []\n",
        "for i in table.find_all(\"th\"):\n",
        "    title = i.text.strip()\n",
        "    table_headers.append(title)\n",
        "\n",
        "rows = []\n",
        "for i in table.find_all(\"tr\")[1:]:\n",
        "    cells = []\n",
        "    tds = i.find_all(\"td\")\n",
        "    if len(tds) == 0:\n",
        "        ths = i.find_all(\"th\")\n",
        "        for th in ths:\n",
        "            cells.append(th.text.strip())\n",
        "    else:\n",
        "        for td in tds:\n",
        "            cells.append(td.text.strip())\n",
        "    rows.append(cells)\n",
        "\n",
        "data += rows\n",
        "\n",
        "# Save data to CSV file\n",
        "filename = \"players3.csv\"\n",
        "with open(filename, \"w\", newline=\"\") as csvfile:\n",
        "    writer = csv.writer(csvfile)\n",
        "    # Write header row\n",
        "    writer.writerow(table_headers)\n",
        "    # Write data rows\n",
        "    writer.writerows(data)\n",
        "\n",
        "print(f\"Data saved to {filename}\")"
      ],
      "metadata": {
        "colab": {
          "base_uri": "https://localhost:8080/"
        },
        "id": "PO8-6RD_1pv9",
        "outputId": "6b155697-db93-4836-ddf5-ff2d25ac5c9c"
      },
      "execution_count": 36,
      "outputs": [
        {
          "output_type": "stream",
          "name": "stdout",
          "text": [
            "Data saved to players3.csv\n"
          ]
        }
      ]
    },
    {
      "cell_type": "code",
      "source": [
        "import requests\n",
        "from bs4 import BeautifulSoup\n",
        "import csv\n",
        "\n",
        "url = \"https://sofifa.com/players?showCol%5B0%5D=pi&showCol%5B1%5D=ae&showCol%5B2%5D=hi&showCol%5B3%5D=wi&showCol%5B4%5D=pf&showCol%5B5%5D=oa&showCol%5B6%5D=pt&showCol%5B7%5D=bo&showCol%5B8%5D=bp&showCol%5B9%5D=gu&showCol%5B10%5D=jt&showCol%5B11%5D=le&showCol%5B12%5D=vl&showCol%5B13%5D=wg&showCol%5B14%5D=rc&showCol%5B15%5D=ta&showCol%5B16%5D=cr&showCol%5B17%5D=fi&showCol%5B18%5D=he&showCol%5B19%5D=sh&showCol%5B20%5D=vo&showCol%5B21%5D=ts&showCol%5B22%5D=dr&showCol%5B23%5D=cu&showCol%5B24%5D=fr&showCol%5B25%5D=lo&showCol%5B26%5D=bl&showCol%5B27%5D=to&showCol%5B28%5D=ac&showCol%5B29%5D=sp&showCol%5B30%5D=ag&showCol%5B31%5D=re&showCol%5B32%5D=ba&showCol%5B33%5D=tp&showCol%5B34%5D=so&showCol%5B35%5D=ju&showCol%5B36%5D=st&showCol%5B37%5D=sr&showCol%5B38%5D=ln&showCol%5B39%5D=te&showCol%5B40%5D=ar&showCol%5B41%5D=in&showCol%5B42%5D=po&showCol%5B43%5D=vi&showCol%5B44%5D=pe&showCol%5B45%5D=cm&showCol%5B46%5D=td&showCol%5B47%5D=ma&showCol%5B48%5D=sa&showCol%5B49%5D=sl&showCol%5B50%5D=tg&showCol%5B51%5D=gd&showCol%5B52%5D=gh&showCol%5B53%5D=gc&showCol%5B54%5D=gp&showCol%5B55%5D=gr&showCol%5B56%5D=tt&showCol%5B57%5D=bs&showCol%5B58%5D=wk&showCol%5B59%5D=sk&showCol%5B60%5D=aw&showCol%5B61%5D=dw&showCol%5B62%5D=ir&showCol%5B63%5D=bt&showCol%5B64%5D=pac&showCol%5B65%5D=sho&showCol%5B66%5D=pas&showCol%5B67%5D=dri&showCol%5B68%5D=def&showCol%5B69%5D=phy&r=200061&set=true&offset=180\"\n",
        "\n",
        "\n",
        "user_agent = {\n",
        "    \"User-Agent\": \"Mozilla/5.0 (Windows NT 10.0; Win64; x64) AppleWebKit/537.36 (KHTML, like Gecko) Chrome/58.0.3029.110 Safari/537.3\"}\n",
        "\n",
        "data = []\n",
        "\n",
        "r = requests.get(url, headers=user_agent)\n",
        "soup = BeautifulSoup(r.content, \"html.parser\")\n",
        "table = soup.find(\"table\", {\"class\": \"table table-hover persist-area\"})\n",
        "\n",
        "table_headers = []\n",
        "for i in table.find_all(\"th\"):\n",
        "    title = i.text.strip()\n",
        "    table_headers.append(title)\n",
        "\n",
        "rows = []\n",
        "for i in table.find_all(\"tr\")[1:]:\n",
        "    cells = []\n",
        "    tds = i.find_all(\"td\")\n",
        "    if len(tds) == 0:\n",
        "        ths = i.find_all(\"th\")\n",
        "        for th in ths:\n",
        "            cells.append(th.text.strip())\n",
        "    else:\n",
        "        for td in tds:\n",
        "            cells.append(td.text.strip())\n",
        "    rows.append(cells)\n",
        "\n",
        "data += rows\n",
        "\n",
        "# Save data to CSV file\n",
        "filename = \"players4.csv\"\n",
        "with open(filename, \"w\", newline=\"\") as csvfile:\n",
        "    writer = csv.writer(csvfile)\n",
        "    # Write header row\n",
        "    writer.writerow(table_headers)\n",
        "    # Write data rows\n",
        "    writer.writerows(data)\n",
        "\n",
        "print(f\"Data saved to {filename}\")"
      ],
      "metadata": {
        "colab": {
          "base_uri": "https://localhost:8080/"
        },
        "id": "PkZ7pxBv4IQU",
        "outputId": "66553edb-0b50-49fe-d2fc-20f41bf56d81"
      },
      "execution_count": 37,
      "outputs": [
        {
          "output_type": "stream",
          "name": "stdout",
          "text": [
            "Data saved to players4.csv\n"
          ]
        }
      ]
    },
    {
      "cell_type": "code",
      "source": [
        "import requests\n",
        "from bs4 import BeautifulSoup\n",
        "import csv\n",
        "\n",
        "\n",
        "url = \"https://sofifa.com/players?showCol%5B0%5D=pi&showCol%5B1%5D=ae&showCol%5B2%5D=hi&showCol%5B3%5D=wi&showCol%5B4%5D=pf&showCol%5B5%5D=oa&showCol%5B6%5D=pt&showCol%5B7%5D=bo&showCol%5B8%5D=bp&showCol%5B9%5D=gu&showCol%5B10%5D=jt&showCol%5B11%5D=le&showCol%5B12%5D=vl&showCol%5B13%5D=wg&showCol%5B14%5D=rc&showCol%5B15%5D=ta&showCol%5B16%5D=cr&showCol%5B17%5D=fi&showCol%5B18%5D=he&showCol%5B19%5D=sh&showCol%5B20%5D=vo&showCol%5B21%5D=ts&showCol%5B22%5D=dr&showCol%5B23%5D=cu&showCol%5B24%5D=fr&showCol%5B25%5D=lo&showCol%5B26%5D=bl&showCol%5B27%5D=to&showCol%5B28%5D=ac&showCol%5B29%5D=sp&showCol%5B30%5D=ag&showCol%5B31%5D=re&showCol%5B32%5D=ba&showCol%5B33%5D=tp&showCol%5B34%5D=so&showCol%5B35%5D=ju&showCol%5B36%5D=st&showCol%5B37%5D=sr&showCol%5B38%5D=ln&showCol%5B39%5D=te&showCol%5B40%5D=ar&showCol%5B41%5D=in&showCol%5B42%5D=po&showCol%5B43%5D=vi&showCol%5B44%5D=pe&showCol%5B45%5D=cm&showCol%5B46%5D=td&showCol%5B47%5D=ma&showCol%5B48%5D=sa&showCol%5B49%5D=sl&showCol%5B50%5D=tg&showCol%5B51%5D=gd&showCol%5B52%5D=gh&showCol%5B53%5D=gc&showCol%5B54%5D=gp&showCol%5B55%5D=gr&showCol%5B56%5D=tt&showCol%5B57%5D=bs&showCol%5B58%5D=wk&showCol%5B59%5D=sk&showCol%5B60%5D=aw&showCol%5B61%5D=dw&showCol%5B62%5D=ir&showCol%5B63%5D=bt&showCol%5B64%5D=pac&showCol%5B65%5D=sho&showCol%5B66%5D=pas&showCol%5B67%5D=dri&showCol%5B68%5D=def&showCol%5B69%5D=phy&r=200061&set=true&offset=240\"\n",
        "\n",
        "\n",
        "user_agent = {\n",
        "    \"User-Agent\": \"Mozilla/5.0 (Windows NT 10.0; Win64; x64) AppleWebKit/537.36 (KHTML, like Gecko) Chrome/58.0.3029.110 Safari/537.3\"}\n",
        "\n",
        "data = []\n",
        "\n",
        "r = requests.get(url, headers=user_agent)\n",
        "soup = BeautifulSoup(r.content, \"html.parser\")\n",
        "table = soup.find(\"table\", {\"class\": \"table table-hover persist-area\"})\n",
        "\n",
        "table_headers = []\n",
        "for i in table.find_all(\"th\"):\n",
        "    title = i.text.strip()\n",
        "    table_headers.append(title)\n",
        "\n",
        "rows = []\n",
        "for i in table.find_all(\"tr\")[1:]:\n",
        "    cells = []\n",
        "    tds = i.find_all(\"td\")\n",
        "    if len(tds) == 0:\n",
        "        ths = i.find_all(\"th\")\n",
        "        for th in ths:\n",
        "            cells.append(th.text.strip())\n",
        "    else:\n",
        "        for td in tds:\n",
        "            cells.append(td.text.strip())\n",
        "    rows.append(cells)\n",
        "\n",
        "data += rows\n",
        "\n",
        "# Save data to CSV file\n",
        "filename = \"players5.csv\"\n",
        "with open(filename, \"w\", newline=\"\") as csvfile:\n",
        "    writer = csv.writer(csvfile)\n",
        "    # Write header row\n",
        "    writer.writerow(table_headers)\n",
        "    # Write data rows\n",
        "    writer.writerows(data)\n",
        "\n",
        "print(f\"Data saved to {filename}\")"
      ],
      "metadata": {
        "colab": {
          "base_uri": "https://localhost:8080/"
        },
        "id": "MUeG35yO4JAx",
        "outputId": "6d15b5ce-7bd3-473b-aabf-f4600468f0bb"
      },
      "execution_count": 38,
      "outputs": [
        {
          "output_type": "stream",
          "name": "stdout",
          "text": [
            "Data saved to players5.csv\n"
          ]
        }
      ]
    },
    {
      "cell_type": "code",
      "source": [
        "import requests\n",
        "from bs4 import BeautifulSoup\n",
        "import csv\n",
        "\n",
        "url = \"https://sofifa.com/players?showCol%5B0%5D=pi&showCol%5B1%5D=ae&showCol%5B2%5D=hi&showCol%5B3%5D=wi&showCol%5B4%5D=pf&showCol%5B5%5D=oa&showCol%5B6%5D=pt&showCol%5B7%5D=bo&showCol%5B8%5D=bp&showCol%5B9%5D=gu&showCol%5B10%5D=jt&showCol%5B11%5D=le&showCol%5B12%5D=vl&showCol%5B13%5D=wg&showCol%5B14%5D=rc&showCol%5B15%5D=ta&showCol%5B16%5D=cr&showCol%5B17%5D=fi&showCol%5B18%5D=he&showCol%5B19%5D=sh&showCol%5B20%5D=vo&showCol%5B21%5D=ts&showCol%5B22%5D=dr&showCol%5B23%5D=cu&showCol%5B24%5D=fr&showCol%5B25%5D=lo&showCol%5B26%5D=bl&showCol%5B27%5D=to&showCol%5B28%5D=ac&showCol%5B29%5D=sp&showCol%5B30%5D=ag&showCol%5B31%5D=re&showCol%5B32%5D=ba&showCol%5B33%5D=tp&showCol%5B34%5D=so&showCol%5B35%5D=ju&showCol%5B36%5D=st&showCol%5B37%5D=sr&showCol%5B38%5D=ln&showCol%5B39%5D=te&showCol%5B40%5D=ar&showCol%5B41%5D=in&showCol%5B42%5D=po&showCol%5B43%5D=vi&showCol%5B44%5D=pe&showCol%5B45%5D=cm&showCol%5B46%5D=td&showCol%5B47%5D=ma&showCol%5B48%5D=sa&showCol%5B49%5D=sl&showCol%5B50%5D=tg&showCol%5B51%5D=gd&showCol%5B52%5D=gh&showCol%5B53%5D=gc&showCol%5B54%5D=gp&showCol%5B55%5D=gr&showCol%5B56%5D=tt&showCol%5B57%5D=bs&showCol%5B58%5D=wk&showCol%5B59%5D=sk&showCol%5B60%5D=aw&showCol%5B61%5D=dw&showCol%5B62%5D=ir&showCol%5B63%5D=bt&showCol%5B64%5D=pac&showCol%5B65%5D=sho&showCol%5B66%5D=pas&showCol%5B67%5D=dri&showCol%5B68%5D=def&showCol%5B69%5D=phy&r=200061&set=true&offset=300\"\n",
        "\n",
        "\n",
        "user_agent = {\n",
        "    \"User-Agent\": \"Mozilla/5.0 (Windows NT 10.0; Win64; x64) AppleWebKit/537.36 (KHTML, like Gecko) Chrome/58.0.3029.110 Safari/537.3\"}\n",
        "\n",
        "data = []\n",
        "\n",
        "r = requests.get(url, headers=user_agent)\n",
        "soup = BeautifulSoup(r.content, \"html.parser\")\n",
        "table = soup.find(\"table\", {\"class\": \"table table-hover persist-area\"})\n",
        "\n",
        "table_headers = []\n",
        "for i in table.find_all(\"th\"):\n",
        "    title = i.text.strip()\n",
        "    table_headers.append(title)\n",
        "\n",
        "rows = []\n",
        "for i in table.find_all(\"tr\")[1:]:\n",
        "    cells = []\n",
        "    tds = i.find_all(\"td\")\n",
        "    if len(tds) == 0:\n",
        "        ths = i.find_all(\"th\")\n",
        "        for th in ths:\n",
        "            cells.append(th.text.strip())\n",
        "    else:\n",
        "        for td in tds:\n",
        "            cells.append(td.text.strip())\n",
        "    rows.append(cells)\n",
        "\n",
        "data += rows\n",
        "\n",
        "# Save data to CSV file\n",
        "filename = \"players6.csv\"\n",
        "with open(filename, \"w\", newline=\"\") as csvfile:\n",
        "    writer = csv.writer(csvfile)\n",
        "    # Write header row\n",
        "    writer.writerow(table_headers)\n",
        "    # Write data rows\n",
        "    writer.writerows(data)\n",
        "\n",
        "print(f\"Data saved to {filename}\")"
      ],
      "metadata": {
        "colab": {
          "base_uri": "https://localhost:8080/"
        },
        "id": "K9F8MewT4Jmn",
        "outputId": "cd1847a0-67f8-4c70-a661-24c1e274458f"
      },
      "execution_count": 39,
      "outputs": [
        {
          "output_type": "stream",
          "name": "stdout",
          "text": [
            "Data saved to players6.csv\n"
          ]
        }
      ]
    },
    {
      "cell_type": "code",
      "source": [
        "import requests\n",
        "from bs4 import BeautifulSoup\n",
        "import csv\n",
        "\n",
        "url = \"https://sofifa.com/players?showCol%5B0%5D=pi&showCol%5B1%5D=ae&showCol%5B2%5D=hi&showCol%5B3%5D=wi&showCol%5B4%5D=pf&showCol%5B5%5D=oa&showCol%5B6%5D=pt&showCol%5B7%5D=bo&showCol%5B8%5D=bp&showCol%5B9%5D=gu&showCol%5B10%5D=jt&showCol%5B11%5D=le&showCol%5B12%5D=vl&showCol%5B13%5D=wg&showCol%5B14%5D=rc&showCol%5B15%5D=ta&showCol%5B16%5D=cr&showCol%5B17%5D=fi&showCol%5B18%5D=he&showCol%5B19%5D=sh&showCol%5B20%5D=vo&showCol%5B21%5D=ts&showCol%5B22%5D=dr&showCol%5B23%5D=cu&showCol%5B24%5D=fr&showCol%5B25%5D=lo&showCol%5B26%5D=bl&showCol%5B27%5D=to&showCol%5B28%5D=ac&showCol%5B29%5D=sp&showCol%5B30%5D=ag&showCol%5B31%5D=re&showCol%5B32%5D=ba&showCol%5B33%5D=tp&showCol%5B34%5D=so&showCol%5B35%5D=ju&showCol%5B36%5D=st&showCol%5B37%5D=sr&showCol%5B38%5D=ln&showCol%5B39%5D=te&showCol%5B40%5D=ar&showCol%5B41%5D=in&showCol%5B42%5D=po&showCol%5B43%5D=vi&showCol%5B44%5D=pe&showCol%5B45%5D=cm&showCol%5B46%5D=td&showCol%5B47%5D=ma&showCol%5B48%5D=sa&showCol%5B49%5D=sl&showCol%5B50%5D=tg&showCol%5B51%5D=gd&showCol%5B52%5D=gh&showCol%5B53%5D=gc&showCol%5B54%5D=gp&showCol%5B55%5D=gr&showCol%5B56%5D=tt&showCol%5B57%5D=bs&showCol%5B58%5D=wk&showCol%5B59%5D=sk&showCol%5B60%5D=aw&showCol%5B61%5D=dw&showCol%5B62%5D=ir&showCol%5B63%5D=bt&showCol%5B64%5D=pac&showCol%5B65%5D=sho&showCol%5B66%5D=pas&showCol%5B67%5D=dri&showCol%5B68%5D=def&showCol%5B69%5D=phy&r=200061&set=true&offset=360\"\n",
        "\n",
        "\n",
        "\n",
        "user_agent = {\n",
        "    \"User-Agent\": \"Mozilla/5.0 (Windows NT 10.0; Win64; x64) AppleWebKit/537.36 (KHTML, like Gecko) Chrome/58.0.3029.110 Safari/537.3\"}\n",
        "\n",
        "data = []\n",
        "\n",
        "r = requests.get(url, headers=user_agent)\n",
        "soup = BeautifulSoup(r.content, \"html.parser\")\n",
        "table = soup.find(\"table\", {\"class\": \"table table-hover persist-area\"})\n",
        "\n",
        "table_headers = []\n",
        "for i in table.find_all(\"th\"):\n",
        "    title = i.text.strip()\n",
        "    table_headers.append(title)\n",
        "\n",
        "rows = []\n",
        "for i in table.find_all(\"tr\")[1:]:\n",
        "    cells = []\n",
        "    tds = i.find_all(\"td\")\n",
        "    if len(tds) == 0:\n",
        "        ths = i.find_all(\"th\")\n",
        "        for th in ths:\n",
        "            cells.append(th.text.strip())\n",
        "    else:\n",
        "        for td in tds:\n",
        "            cells.append(td.text.strip())\n",
        "    rows.append(cells)\n",
        "\n",
        "data += rows\n",
        "\n",
        "# Save data to CSV file\n",
        "filename = \"players7.csv\"\n",
        "with open(filename, \"w\", newline=\"\") as csvfile:\n",
        "    writer = csv.writer(csvfile)\n",
        "    # Write header row\n",
        "    writer.writerow(table_headers)\n",
        "    # Write data rows\n",
        "    writer.writerows(data)\n",
        "\n",
        "print(f\"Data saved to {filename}\")"
      ],
      "metadata": {
        "colab": {
          "base_uri": "https://localhost:8080/"
        },
        "id": "cFK5xdre4KRE",
        "outputId": "34565e46-2806-43d2-9120-b58dec01105f"
      },
      "execution_count": 40,
      "outputs": [
        {
          "output_type": "stream",
          "name": "stdout",
          "text": [
            "Data saved to players7.csv\n"
          ]
        }
      ]
    },
    {
      "cell_type": "code",
      "source": [
        "import requests\n",
        "from bs4 import BeautifulSoup\n",
        "import csv\n",
        "\n",
        "url = \"https://sofifa.com/players?showCol%5B0%5D=pi&showCol%5B1%5D=ae&showCol%5B2%5D=hi&showCol%5B3%5D=wi&showCol%5B4%5D=pf&showCol%5B5%5D=oa&showCol%5B6%5D=pt&showCol%5B7%5D=bo&showCol%5B8%5D=bp&showCol%5B9%5D=gu&showCol%5B10%5D=jt&showCol%5B11%5D=le&showCol%5B12%5D=vl&showCol%5B13%5D=wg&showCol%5B14%5D=rc&showCol%5B15%5D=ta&showCol%5B16%5D=cr&showCol%5B17%5D=fi&showCol%5B18%5D=he&showCol%5B19%5D=sh&showCol%5B20%5D=vo&showCol%5B21%5D=ts&showCol%5B22%5D=dr&showCol%5B23%5D=cu&showCol%5B24%5D=fr&showCol%5B25%5D=lo&showCol%5B26%5D=bl&showCol%5B27%5D=to&showCol%5B28%5D=ac&showCol%5B29%5D=sp&showCol%5B30%5D=ag&showCol%5B31%5D=re&showCol%5B32%5D=ba&showCol%5B33%5D=tp&showCol%5B34%5D=so&showCol%5B35%5D=ju&showCol%5B36%5D=st&showCol%5B37%5D=sr&showCol%5B38%5D=ln&showCol%5B39%5D=te&showCol%5B40%5D=ar&showCol%5B41%5D=in&showCol%5B42%5D=po&showCol%5B43%5D=vi&showCol%5B44%5D=pe&showCol%5B45%5D=cm&showCol%5B46%5D=td&showCol%5B47%5D=ma&showCol%5B48%5D=sa&showCol%5B49%5D=sl&showCol%5B50%5D=tg&showCol%5B51%5D=gd&showCol%5B52%5D=gh&showCol%5B53%5D=gc&showCol%5B54%5D=gp&showCol%5B55%5D=gr&showCol%5B56%5D=tt&showCol%5B57%5D=bs&showCol%5B58%5D=wk&showCol%5B59%5D=sk&showCol%5B60%5D=aw&showCol%5B61%5D=dw&showCol%5B62%5D=ir&showCol%5B63%5D=bt&showCol%5B64%5D=pac&showCol%5B65%5D=sho&showCol%5B66%5D=pas&showCol%5B67%5D=dri&showCol%5B68%5D=def&showCol%5B69%5D=phy&r=200061&set=true&offset=420\"\n",
        "\n",
        "\n",
        "user_agent = {\n",
        "    \"User-Agent\": \"Mozilla/5.0 (Windows NT 10.0; Win64; x64) AppleWebKit/537.36 (KHTML, like Gecko) Chrome/58.0.3029.110 Safari/537.3\"}\n",
        "\n",
        "data = []\n",
        "\n",
        "r = requests.get(url, headers=user_agent)\n",
        "soup = BeautifulSoup(r.content, \"html.parser\")\n",
        "table = soup.find(\"table\", {\"class\": \"table table-hover persist-area\"})\n",
        "\n",
        "table_headers = []\n",
        "for i in table.find_all(\"th\"):\n",
        "    title = i.text.strip()\n",
        "    table_headers.append(title)\n",
        "\n",
        "rows = []\n",
        "for i in table.find_all(\"tr\")[1:]:\n",
        "    cells = []\n",
        "    tds = i.find_all(\"td\")\n",
        "    if len(tds) == 0:\n",
        "        ths = i.find_all(\"th\")\n",
        "        for th in ths:\n",
        "            cells.append(th.text.strip())\n",
        "    else:\n",
        "        for td in tds:\n",
        "            cells.append(td.text.strip())\n",
        "    rows.append(cells)\n",
        "\n",
        "data += rows\n",
        "\n",
        "# Save data to CSV file\n",
        "filename = \"players8.csv\"\n",
        "with open(filename, \"w\", newline=\"\") as csvfile:\n",
        "    writer = csv.writer(csvfile)\n",
        "    # Write header row\n",
        "    writer.writerow(table_headers)\n",
        "    # Write data rows\n",
        "    writer.writerows(data)\n",
        "\n",
        "print(f\"Data saved to {filename}\")"
      ],
      "metadata": {
        "colab": {
          "base_uri": "https://localhost:8080/"
        },
        "id": "g_zVVR5d4LCQ",
        "outputId": "8941283f-0fd0-49b0-96a9-50d2a2e4e0e7"
      },
      "execution_count": 41,
      "outputs": [
        {
          "output_type": "stream",
          "name": "stdout",
          "text": [
            "Data saved to players8.csv\n"
          ]
        }
      ]
    },
    {
      "cell_type": "code",
      "source": [
        "import requests\n",
        "from bs4 import BeautifulSoup\n",
        "import csv\n",
        "\n",
        "url = \"https://sofifa.com/players?showCol%5B0%5D=pi&showCol%5B1%5D=ae&showCol%5B2%5D=hi&showCol%5B3%5D=wi&showCol%5B4%5D=pf&showCol%5B5%5D=oa&showCol%5B6%5D=pt&showCol%5B7%5D=bo&showCol%5B8%5D=bp&showCol%5B9%5D=gu&showCol%5B10%5D=jt&showCol%5B11%5D=le&showCol%5B12%5D=vl&showCol%5B13%5D=wg&showCol%5B14%5D=rc&showCol%5B15%5D=ta&showCol%5B16%5D=cr&showCol%5B17%5D=fi&showCol%5B18%5D=he&showCol%5B19%5D=sh&showCol%5B20%5D=vo&showCol%5B21%5D=ts&showCol%5B22%5D=dr&showCol%5B23%5D=cu&showCol%5B24%5D=fr&showCol%5B25%5D=lo&showCol%5B26%5D=bl&showCol%5B27%5D=to&showCol%5B28%5D=ac&showCol%5B29%5D=sp&showCol%5B30%5D=ag&showCol%5B31%5D=re&showCol%5B32%5D=ba&showCol%5B33%5D=tp&showCol%5B34%5D=so&showCol%5B35%5D=ju&showCol%5B36%5D=st&showCol%5B37%5D=sr&showCol%5B38%5D=ln&showCol%5B39%5D=te&showCol%5B40%5D=ar&showCol%5B41%5D=in&showCol%5B42%5D=po&showCol%5B43%5D=vi&showCol%5B44%5D=pe&showCol%5B45%5D=cm&showCol%5B46%5D=td&showCol%5B47%5D=ma&showCol%5B48%5D=sa&showCol%5B49%5D=sl&showCol%5B50%5D=tg&showCol%5B51%5D=gd&showCol%5B52%5D=gh&showCol%5B53%5D=gc&showCol%5B54%5D=gp&showCol%5B55%5D=gr&showCol%5B56%5D=tt&showCol%5B57%5D=bs&showCol%5B58%5D=wk&showCol%5B59%5D=sk&showCol%5B60%5D=aw&showCol%5B61%5D=dw&showCol%5B62%5D=ir&showCol%5B63%5D=bt&showCol%5B64%5D=pac&showCol%5B65%5D=sho&showCol%5B66%5D=pas&showCol%5B67%5D=dri&showCol%5B68%5D=def&showCol%5B69%5D=phy&r=200061&set=true&offset=480\"\n",
        "\n",
        "\n",
        "user_agent = {\n",
        "    \"User-Agent\": \"Mozilla/5.0 (Windows NT 10.0; Win64; x64) AppleWebKit/537.36 (KHTML, like Gecko) Chrome/58.0.3029.110 Safari/537.3\"}\n",
        "\n",
        "data = []\n",
        "\n",
        "r = requests.get(url, headers=user_agent)\n",
        "soup = BeautifulSoup(r.content, \"html.parser\")\n",
        "table = soup.find(\"table\", {\"class\": \"table table-hover persist-area\"})\n",
        "\n",
        "table_headers = []\n",
        "for i in table.find_all(\"th\"):\n",
        "    title = i.text.strip()\n",
        "    table_headers.append(title)\n",
        "\n",
        "rows = []\n",
        "for i in table.find_all(\"tr\")[1:]:\n",
        "    cells = []\n",
        "    tds = i.find_all(\"td\")\n",
        "    if len(tds) == 0:\n",
        "        ths = i.find_all(\"th\")\n",
        "        for th in ths:\n",
        "            cells.append(th.text.strip())\n",
        "    else:\n",
        "        for td in tds:\n",
        "            cells.append(td.text.strip())\n",
        "    rows.append(cells)\n",
        "\n",
        "data += rows\n",
        "\n",
        "# Save data to CSV file\n",
        "filename = \"players9.csv\"\n",
        "with open(filename, \"w\", newline=\"\") as csvfile:\n",
        "    writer = csv.writer(csvfile)\n",
        "    # Write header row\n",
        "    writer.writerow(table_headers)\n",
        "    # Write data rows\n",
        "    writer.writerows(data)\n",
        "\n",
        "print(f\"Data saved to {filename}\")"
      ],
      "metadata": {
        "colab": {
          "base_uri": "https://localhost:8080/"
        },
        "id": "hg7VV-6O4LqM",
        "outputId": "cbe7ef11-385d-497b-8d9c-485e5f06614f"
      },
      "execution_count": 42,
      "outputs": [
        {
          "output_type": "stream",
          "name": "stdout",
          "text": [
            "Data saved to players9.csv\n"
          ]
        }
      ]
    },
    {
      "cell_type": "code",
      "source": [
        "import requests\n",
        "from bs4 import BeautifulSoup\n",
        "import csv\n",
        "\n",
        "url = \"https://sofifa.com/players?showCol%5B0%5D=pi&showCol%5B1%5D=ae&showCol%5B2%5D=hi&showCol%5B3%5D=wi&showCol%5B4%5D=pf&showCol%5B5%5D=oa&showCol%5B6%5D=pt&showCol%5B7%5D=bo&showCol%5B8%5D=bp&showCol%5B9%5D=gu&showCol%5B10%5D=jt&showCol%5B11%5D=le&showCol%5B12%5D=vl&showCol%5B13%5D=wg&showCol%5B14%5D=rc&showCol%5B15%5D=ta&showCol%5B16%5D=cr&showCol%5B17%5D=fi&showCol%5B18%5D=he&showCol%5B19%5D=sh&showCol%5B20%5D=vo&showCol%5B21%5D=ts&showCol%5B22%5D=dr&showCol%5B23%5D=cu&showCol%5B24%5D=fr&showCol%5B25%5D=lo&showCol%5B26%5D=bl&showCol%5B27%5D=to&showCol%5B28%5D=ac&showCol%5B29%5D=sp&showCol%5B30%5D=ag&showCol%5B31%5D=re&showCol%5B32%5D=ba&showCol%5B33%5D=tp&showCol%5B34%5D=so&showCol%5B35%5D=ju&showCol%5B36%5D=st&showCol%5B37%5D=sr&showCol%5B38%5D=ln&showCol%5B39%5D=te&showCol%5B40%5D=ar&showCol%5B41%5D=in&showCol%5B42%5D=po&showCol%5B43%5D=vi&showCol%5B44%5D=pe&showCol%5B45%5D=cm&showCol%5B46%5D=td&showCol%5B47%5D=ma&showCol%5B48%5D=sa&showCol%5B49%5D=sl&showCol%5B50%5D=tg&showCol%5B51%5D=gd&showCol%5B52%5D=gh&showCol%5B53%5D=gc&showCol%5B54%5D=gp&showCol%5B55%5D=gr&showCol%5B56%5D=tt&showCol%5B57%5D=bs&showCol%5B58%5D=wk&showCol%5B59%5D=sk&showCol%5B60%5D=aw&showCol%5B61%5D=dw&showCol%5B62%5D=ir&showCol%5B63%5D=bt&showCol%5B64%5D=pac&showCol%5B65%5D=sho&showCol%5B66%5D=pas&showCol%5B67%5D=dri&showCol%5B68%5D=def&showCol%5B69%5D=phy&r=200061&set=true&offset=540\"\n",
        "\n",
        "\n",
        "user_agent = {\n",
        "    \"User-Agent\": \"Mozilla/5.0 (Windows NT 10.0; Win64; x64) AppleWebKit/537.36 (KHTML, like Gecko) Chrome/58.0.3029.110 Safari/537.3\"}\n",
        "\n",
        "data = []\n",
        "\n",
        "r = requests.get(url, headers=user_agent)\n",
        "soup = BeautifulSoup(r.content, \"html.parser\")\n",
        "table = soup.find(\"table\", {\"class\": \"table table-hover persist-area\"})\n",
        "\n",
        "table_headers = []\n",
        "for i in table.find_all(\"th\"):\n",
        "    title = i.text.strip()\n",
        "    table_headers.append(title)\n",
        "\n",
        "rows = []\n",
        "for i in table.find_all(\"tr\")[1:]:\n",
        "    cells = []\n",
        "    tds = i.find_all(\"td\")\n",
        "    if len(tds) == 0:\n",
        "        ths = i.find_all(\"th\")\n",
        "        for th in ths:\n",
        "            cells.append(th.text.strip())\n",
        "    else:\n",
        "        for td in tds:\n",
        "            cells.append(td.text.strip())\n",
        "    rows.append(cells)\n",
        "\n",
        "data += rows\n",
        "\n",
        "# Save data to CSV file\n",
        "filename = \"players10.csv\"\n",
        "with open(filename, \"w\", newline=\"\") as csvfile:\n",
        "    writer = csv.writer(csvfile)\n",
        "    # Write header row\n",
        "    writer.writerow(table_headers)\n",
        "    # Write data rows\n",
        "    writer.writerows(data)\n",
        "\n",
        "print(f\"Data saved to {filename}\")"
      ],
      "metadata": {
        "colab": {
          "base_uri": "https://localhost:8080/"
        },
        "id": "hHDoJ_cR4MLb",
        "outputId": "ee8bc0a9-90f5-4ae1-fc6e-92679df9c674"
      },
      "execution_count": 43,
      "outputs": [
        {
          "output_type": "stream",
          "name": "stdout",
          "text": [
            "Data saved to players10.csv\n"
          ]
        }
      ]
    },
    {
      "cell_type": "code",
      "source": [
        "import pandas as pd\n",
        "\n",
        "# List of CSV files to merge\n",
        "csv_files = ['players1.csv', 'players2.csv', 'players3.csv', 'players4.csv', 'players5.csv', 'players6.csv', 'players7.csv', 'players8.csv', 'players9.csv', 'players10.csv']\n",
        "\n",
        "# Create an empty DataFrame to store the merged data\n",
        "merged_df = pd.DataFrame()\n",
        "\n",
        "# Loop through each CSV file and read it into a DataFrame, then concatenate it with the merged_df\n",
        "for csv_file in csv_files:\n",
        "    temp_df = pd.read_csv(csv_file)\n",
        "    merged_df = pd.concat([merged_df, temp_df], ignore_index=True)\n",
        "\n",
        "# Save the merged DataFrame to a CSV file\n",
        "merged_df.to_csv('FIFA_20.csv', index=False)\n"
      ],
      "metadata": {
        "id": "Uhz0KvNC5pEN"
      },
      "execution_count": 44,
      "outputs": []
    }
  ]
}